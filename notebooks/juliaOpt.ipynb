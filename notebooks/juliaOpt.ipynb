{
 "cells": [
  {
   "attachments": {},
   "cell_type": "markdown",
   "metadata": {},
   "source": [
    "*Klausurtagung 2019*\n",
    "\n",
    "# IMIP-Solvers and Julia-OPT\n",
    "\n",
    "Nikolai Stein, Toni Greif<br>\n",
    "Lehrstuhl für Wirtschaftsinformatik und Informationsmanagement\n",
    "\n",
    "*Rothenburg ob der Tauber, August 7-9, 2019*"
   ]
  },
  {
   "cell_type": "markdown",
   "metadata": {
    "slideshow": {
     "slide_type": "slide"
    }
   },
   "source": [
    "# Mathematical Optimization\n",
    "- Specialized solvers for linear, mixed integer, quadratic, etc. problems\n",
    "- Need to be able to write code that is a natural and maintainable translation of the mathematics of our problem\n",
    "- Preferably loosley coupled to the specific solution method and data"
   ]
  },
  {
   "cell_type": "markdown",
   "metadata": {
    "slideshow": {
     "slide_type": "slide"
    }
   },
   "source": [
    "# What is JuliaOpt?\n",
    "- A collection of high-quality optimization related packages\n",
    "- Algebraic modelling language that lets you express optimization problems naturally and quickly (JuMP)\n",
    "- Ligh-weight wrappers around C interfaces of powerfult commercial and open-source solvers:\n",
    "    - Gurobi\n",
    "    - COIN-OR\n",
    "    - GLPK\n",
    "    - CPLEX\n",
    "    - ..."
   ]
  },
  {
   "cell_type": "markdown",
   "metadata": {
    "slideshow": {
     "slide_type": "subslide"
    }
   },
   "source": [
    "# Why should we use it?\n",
    "+ Very user-friendly\n",
    "+ Speed similar to special purpose commercial modelling language like AMPL\n",
    "+ Solver independent code: same code will run for both commercial and open-source solvers\n",
    "+ Very easy to implement solver callback and problem modification"
   ]
  },
  {
   "cell_type": "markdown",
   "metadata": {
    "slideshow": {
     "slide_type": "subslide"
    }
   },
   "source": [
    "# JuMP: Algebraic modeling\n",
    "- JuMP allows us to translate mathematical statements of optimization problems into code\n",
    "- It efficiently generates the data structures solvers require as input\n",
    "- Much easier to reason about than hand-coding problem structure"
   ]
  },
  {
   "cell_type": "markdown",
   "metadata": {
    "slideshow": {
     "slide_type": "subslide"
    }
   },
   "source": [
    "# JuMP Philosophy\n",
    "- Make modeling quick and painless for practitioners\n",
    "- Allow experts to easilty use integrated advanced features (usually available through low-level solver interfaces)\n",
    "- Make it as fast as possible"
   ]
  },
  {
   "cell_type": "markdown",
   "metadata": {
    "slideshow": {
     "slide_type": "slide"
    }
   },
   "source": [
    "# Install Julia"
   ]
  },
  {
   "cell_type": "markdown",
   "metadata": {},
   "source": [
    "To use Julia in local notebooks you have to:\n",
    "- Install anaconda ([Anaconda Downloads](https://www.anaconda.com/distribution/))\n",
    "- Download Julia for your OS ([Julia Downloads](https://julialang.org/downloads/))\n",
    "- Add the Julia Kernel to Jupyter ([Tutorial](https://datatofish.com/add-julia-to-jupyter/))"
   ]
  },
  {
   "cell_type": "markdown",
   "metadata": {},
   "source": [
    "Or you can just use Google Colab. Julia is not installed, you will need to run the installation notebook at:\n",
    "\n",
    " [docs/colab/InstallJuliaXLA.ipynb](https://colab.research.google.com/github/JuliaTPU/XLA.jl/blob/master/docs/colab/InstallJuliaXLA.ipynb)\n",
    " \n",
    "first. Afterwards, any JuliaTPU notebook should work if opened without resetting the runtime in between."
   ]
  },
  {
   "cell_type": "markdown",
   "metadata": {
    "slideshow": {
     "slide_type": "subslide"
    }
   },
   "source": [
    "# Install JuMP and Solvers\n",
    "For an exhaustive list of available solvers see [solvers](http://www.juliaopt.org/JuMP.jl/v0.14/installation.html#getting-solvers)"
   ]
  },
  {
   "cell_type": "code",
   "execution_count": 1,
   "metadata": {},
   "outputs": [
    {
     "name": "stdout",
     "output_type": "stream",
     "text": [
      "\u001b[32m\u001b[1m  Updating\u001b[22m\u001b[39m registry at `C:\\Users\\Toni Greif\\.julia\\registries\\General`\n",
      "\u001b[32m\u001b[1m  Updating\u001b[22m\u001b[39m git-repo `https://github.com/JuliaRegistries/General.git`\n",
      "\u001b[2K\u001b[36m\u001b[1mFetching:\u001b[22m\u001b[39m [========================================>]  100.0 %.0 %\u001b[?25h\u001b[32m\u001b[1m Resolving\u001b[22m\u001b[39m package versions...\n",
      "\u001b[32m\u001b[1m  Updating\u001b[22m\u001b[39m `C:\\Users\\Toni Greif\\.julia\\environments\\v1.1\\Project.toml`\n",
      "\u001b[90m [no changes]\u001b[39m\n",
      "\u001b[32m\u001b[1m  Updating\u001b[22m\u001b[39m `C:\\Users\\Toni Greif\\.julia\\environments\\v1.1\\Manifest.toml`\n",
      "\u001b[90m [no changes]\u001b[39m\n",
      "\u001b[32m\u001b[1m Resolving\u001b[22m\u001b[39m package versions...\n",
      "\u001b[32m\u001b[1m  Updating\u001b[22m\u001b[39m `C:\\Users\\Toni Greif\\.julia\\environments\\v1.1\\Project.toml`\n",
      "\u001b[90m [no changes]\u001b[39m\n",
      "\u001b[32m\u001b[1m  Updating\u001b[22m\u001b[39m `C:\\Users\\Toni Greif\\.julia\\environments\\v1.1\\Manifest.toml`\n",
      "\u001b[90m [no changes]\u001b[39m\n",
      "\u001b[32m\u001b[1m Resolving\u001b[22m\u001b[39m package versions...\n",
      "\u001b[32m\u001b[1m  Updating\u001b[22m\u001b[39m `C:\\Users\\Toni Greif\\.julia\\environments\\v1.1\\Project.toml`\n",
      "\u001b[90m [no changes]\u001b[39m\n",
      "\u001b[32m\u001b[1m  Updating\u001b[22m\u001b[39m `C:\\Users\\Toni Greif\\.julia\\environments\\v1.1\\Manifest.toml`\n",
      "\u001b[90m [no changes]\u001b[39m\n"
     ]
    }
   ],
   "source": [
    "using Pkg\n",
    "Pkg.add(\"JuMP\")\n",
    "\n",
    "Pkg.add(\"GLPK\")\n",
    "Pkg.add(\"Gurobi\")"
   ]
  },
  {
   "cell_type": "markdown",
   "metadata": {
    "slideshow": {
     "slide_type": "slide"
    }
   },
   "source": [
    "# A simple example\n",
    "First, we solve a very simple example to get familiar with JuMP:\n",
    "\n",
    "$\\max 30x + 20y$\n",
    "\n",
    "subject to:\n",
    "\n",
    "$x \\leq 10$\n",
    "\n",
    "$y \\leq 6$\n",
    "\n",
    "$2x + 4y \\leq 32$\n",
    "\n",
    "$x, y \\geq 0$"
   ]
  },
  {
   "cell_type": "markdown",
   "metadata": {
    "slideshow": {
     "slide_type": "subslide"
    }
   },
   "source": [
    "Load JuMP and the GLPK solver:"
   ]
  },
  {
   "cell_type": "code",
   "execution_count": 2,
   "metadata": {},
   "outputs": [],
   "source": [
    "using JuMP\n",
    "using GLPK"
   ]
  },
  {
   "cell_type": "markdown",
   "metadata": {
    "slideshow": {
     "slide_type": "subslide"
    }
   },
   "source": [
    "Construct the model:"
   ]
  },
  {
   "cell_type": "code",
   "execution_count": 3,
   "metadata": {},
   "outputs": [
    {
     "data": {
      "text/latex": [
       "$$ \\begin{alignat*}{1}\\text{feasibility}\\\\\n",
       "\\text{Subject to} \\quad\\end{alignat*}\n",
       " $$"
      ],
      "text/plain": [
       "A JuMP Model\n",
       "Feasibility problem with:\n",
       "Variables: 0\n",
       "Model mode: AUTOMATIC\n",
       "CachingOptimizer state: EMPTY_OPTIMIZER\n",
       "Solver name: GLPK"
      ]
     },
     "execution_count": 3,
     "metadata": {},
     "output_type": "execute_result"
    }
   ],
   "source": [
    "myFirstModel = Model(with_optimizer(GLPK.Optimizer))"
   ]
  },
  {
   "cell_type": "markdown",
   "metadata": {
    "slideshow": {
     "slide_type": "-"
    }
   },
   "source": [
    "Define variables:"
   ]
  },
  {
   "cell_type": "code",
   "execution_count": 4,
   "metadata": {},
   "outputs": [],
   "source": [
    "@variable(myFirstModel, 0 <= x <= 10)\n",
    "@variable(myFirstModel, 0 <= y <= 6);"
   ]
  },
  {
   "cell_type": "markdown",
   "metadata": {
    "slideshow": {
     "slide_type": "subslide"
    }
   },
   "source": [
    "Set objective:"
   ]
  },
  {
   "cell_type": "code",
   "execution_count": 5,
   "metadata": {},
   "outputs": [
    {
     "data": {
      "text/latex": [
       "$$ 30 x + 20 y $$"
      ],
      "text/plain": [
       "30 x + 20 y"
      ]
     },
     "execution_count": 5,
     "metadata": {},
     "output_type": "execute_result"
    }
   ],
   "source": [
    "@objective(myFirstModel, Max, 30*x+20*y)"
   ]
  },
  {
   "cell_type": "markdown",
   "metadata": {
    "slideshow": {
     "slide_type": "-"
    }
   },
   "source": [
    "Add constraints:"
   ]
  },
  {
   "cell_type": "code",
   "execution_count": 6,
   "metadata": {},
   "outputs": [
    {
     "data": {
      "text/latex": [
       "$ 2 x + 4 y \\leq 32.0 $"
      ],
      "text/plain": [
       "2 x + 4 y <= 32.0"
      ]
     },
     "execution_count": 6,
     "metadata": {},
     "output_type": "execute_result"
    }
   ],
   "source": [
    "@constraint(myFirstModel, 2*x + 4*y <= 32)"
   ]
  },
  {
   "cell_type": "markdown",
   "metadata": {
    "slideshow": {
     "slide_type": "subslide"
    }
   },
   "source": [
    "Print the model:"
   ]
  },
  {
   "cell_type": "code",
   "execution_count": 7,
   "metadata": {},
   "outputs": [
    {
     "name": "stdout",
     "output_type": "stream",
     "text": [
      "Max 30 x + 20 y\n",
      "Subject to\n",
      " x >= 0.0\n",
      " y >= 0.0\n",
      " x <= 10.0\n",
      " y <= 6.0\n",
      " 2 x + 4 y <= 32.0\n"
     ]
    }
   ],
   "source": [
    "print(myFirstModel)"
   ]
  },
  {
   "cell_type": "markdown",
   "metadata": {
    "slideshow": {
     "slide_type": "subslide"
    }
   },
   "source": [
    "Solve the model:"
   ]
  },
  {
   "cell_type": "code",
   "execution_count": 8,
   "metadata": {},
   "outputs": [],
   "source": [
    "optimize!(myFirstModel)"
   ]
  },
  {
   "cell_type": "markdown",
   "metadata": {
    "slideshow": {
     "slide_type": "-"
    }
   },
   "source": [
    "Print the results:"
   ]
  },
  {
   "cell_type": "code",
   "execution_count": 9,
   "metadata": {},
   "outputs": [
    {
     "name": "stdout",
     "output_type": "stream",
     "text": [
      "Model status: OPTIMAL\n",
      "Objective value: 360.0\n",
      "x = 10.0\n",
      "y = 3.0\n"
     ]
    }
   ],
   "source": [
    "println(\"Model status: \", termination_status(myFirstModel))\n",
    "println(\"Objective value: \", objective_value(myFirstModel))\n",
    "println(\"x = \", value(x)) #\n",
    "println(\"y = \", value(y))"
   ]
  },
  {
   "cell_type": "markdown",
   "metadata": {
    "slideshow": {
     "slide_type": "slide"
    }
   },
   "source": [
    "# An advanced Example - Bin Packing Problem"
   ]
  },
  {
   "cell_type": "markdown",
   "metadata": {},
   "source": [
    "Given items of different weights and bins each of a different weight capacity and fixed costs, assign each item to a bin such that the total costs are minimized."
   ]
  },
  {
   "cell_type": "code",
   "execution_count": 10,
   "metadata": {},
   "outputs": [],
   "source": [
    "weight = [0.2; 0.5; 0.4; 0.7; 0.1; 0.3; 0.8]\n",
    "\n",
    "capacity = [1; 2; 1; 3]\n",
    "\n",
    "costs_fix = [2; 5; 2; 10]\n",
    "\n",
    "items = 1:size(weight,1)\n",
    "bins = 1:size(capacity,1);"
   ]
  },
  {
   "cell_type": "markdown",
   "metadata": {
    "slideshow": {
     "slide_type": "subslide"
    }
   },
   "source": [
    "Load Linear Algebra functions (e.g. for the sum function):"
   ]
  },
  {
   "cell_type": "code",
   "execution_count": 11,
   "metadata": {},
   "outputs": [],
   "source": [
    "using LinearAlgebra"
   ]
  },
  {
   "cell_type": "markdown",
   "metadata": {
    "slideshow": {
     "slide_type": "subslide"
    }
   },
   "source": [
    "In this example we want to create our model solver independantly."
   ]
  },
  {
   "cell_type": "code",
   "execution_count": 12,
   "metadata": {},
   "outputs": [],
   "source": [
    "bp_mod = Model()\n",
    "\n",
    "# binary varible y_j = 1 if bin i is used\n",
    "@variable(bp_mod, y[j=bins], Bin)\n",
    "# binary varible x_ij = 1 if item i is assigned to bin j\n",
    "@variable(bp_mod, x[ i=items, j=bins], Bin)\n",
    "\n",
    "# minimize costs\n",
    "@objective(bp_mod, Min, dot(costs_fix, y))\n",
    "\n",
    "# subject to\n",
    "for j in bins \n",
    "    @constraint(bp_mod, sum(x[i,j] * weight[i] for i in items) <= capacity[j] * y[j])   \n",
    "end\n",
    "\n",
    "for i in items \n",
    "    @constraint(bp_mod, sum(x[i,j] for j in bins) == 1)\n",
    "\n",
    "end"
   ]
  },
  {
   "cell_type": "markdown",
   "metadata": {
    "slideshow": {
     "slide_type": "subslide"
    }
   },
   "source": [
    "We are now ready to solve the problem. We use the GLPK solver we installed before."
   ]
  },
  {
   "cell_type": "code",
   "execution_count": 13,
   "metadata": {},
   "outputs": [],
   "source": [
    "optimize!(bp_mod, with_optimizer(GLPK.Optimizer));"
   ]
  },
  {
   "cell_type": "code",
   "execution_count": 14,
   "metadata": {
    "slideshow": {
     "slide_type": "subslide"
    }
   },
   "outputs": [
    {
     "name": "stdout",
     "output_type": "stream",
     "text": [
      "Model status: OPTIMAL\n",
      "Objective value: 7.0\n",
      "x = 2-dimensional DenseAxisArray{Float64,2,...} with index sets:\n",
      "    Dimension 1, 1:7\n",
      "    Dimension 2, 1:4\n",
      "And data, a 7×4 Array{Float64,2}:\n",
      " 0.0  1.0  0.0  0.0\n",
      " 0.0  0.0  1.0  0.0\n",
      " 0.0  0.0  1.0  0.0\n",
      " 0.0  1.0  0.0  0.0\n",
      " 0.0  0.0  1.0  0.0\n",
      " 0.0  1.0  0.0  0.0\n",
      " 0.0  1.0  0.0  0.0\n",
      "y = 1-dimensional DenseAxisArray{Float64,1,...} with index sets:\n",
      "    Dimension 1, 1:4\n",
      "And data, a 4-element Array{Float64,1}:\n",
      " 0.0\n",
      " 1.0\n",
      " 1.0\n",
      " 0.0\n"
     ]
    }
   ],
   "source": [
    "println(\"Model status: \", termination_status(bp_mod))\n",
    "println(\"Objective value: \", objective_value(bp_mod))\n",
    "println(\"x = \", value.(x)) #\n",
    "println(\"y = \", value.(y))"
   ]
  },
  {
   "cell_type": "markdown",
   "metadata": {
    "slideshow": {
     "slide_type": "subslide"
    }
   },
   "source": [
    "We extend our model with variable costs. Therefore, we copy the basic model."
   ]
  },
  {
   "cell_type": "code",
   "execution_count": 15,
   "metadata": {},
   "outputs": [],
   "source": [
    "# each bin j has variable costs for each item\n",
    "costs_var = [2; 3; 3; 5];"
   ]
  },
  {
   "cell_type": "code",
   "execution_count": 16,
   "metadata": {
    "scrolled": false
   },
   "outputs": [],
   "source": [
    "extended_mod  = copy(bp_mod)\n",
    "x_new = copy(x, extended_mod)\n",
    "y_new = copy(y, extended_mod);"
   ]
  },
  {
   "cell_type": "markdown",
   "metadata": {
    "slideshow": {
     "slide_type": "subslide"
    }
   },
   "source": [
    "For the better result presentation we introduce additional integer variables which count the number of items in each bin:"
   ]
  },
  {
   "cell_type": "code",
   "execution_count": 17,
   "metadata": {},
   "outputs": [],
   "source": [
    "@variable(extended_mod, z[j=bins], Int)\n",
    "\n",
    "for j in bins \n",
    "    @constraint(extended_mod, sum(x_new[i,j] for i in items) == z[j])   \n",
    "end;"
   ]
  },
  {
   "cell_type": "markdown",
   "metadata": {
    "slideshow": {
     "slide_type": "subslide"
    }
   },
   "source": [
    "Set the new objective:"
   ]
  },
  {
   "cell_type": "code",
   "execution_count": 18,
   "metadata": {},
   "outputs": [],
   "source": [
    "@objective(extended_mod, Min, dot(costs_fix, y_new) + sum(z[j]*costs_var[j] for j=bins));"
   ]
  },
  {
   "cell_type": "code",
   "execution_count": 19,
   "metadata": {},
   "outputs": [
    {
     "name": "stdout",
     "output_type": "stream",
     "text": [
      "Min 2 y[1] + 5 y[2] + 2 y[3] + 10 y[4] + 2 z[1] + 3 z[2] + 3 z[3] + 5 z[4]\n",
      "Subject to\n",
      " y[1] binary\n",
      " y[2] binary\n",
      " y[3] binary\n",
      " y[4] binary\n",
      " x[1,1] binary\n",
      " x[1,2] binary\n",
      " x[1,3] binary\n",
      " x[1,4] binary\n",
      " x[2,1] binary\n",
      " x[2,2] binary\n",
      " x[2,3] binary\n",
      " x[2,4] binary\n",
      " x[3,1] binary\n",
      " x[3,2] binary\n",
      " x[3,3] binary\n",
      " x[3,4] binary\n",
      " x[4,1] binary\n",
      " x[4,2] binary\n",
      " x[4,3] binary\n",
      " x[4,4] binary\n",
      " x[5,1] binary\n",
      " x[5,2] binary\n",
      " x[5,3] binary\n",
      " x[5,4] binary\n",
      " x[6,1] binary\n",
      " x[6,2] binary\n",
      " x[6,3] binary\n",
      " x[6,4] binary\n",
      " x[7,1] binary\n",
      " x[7,2] binary\n",
      " x[7,3] binary\n",
      " x[7,4] binary\n",
      " z[1] integer\n",
      " z[2] integer\n",
      " z[3] integer\n",
      " z[4] integer\n",
      " x[1,1] + x[1,2] + x[1,3] + x[1,4] == 1.0\n",
      " x[2,1] + x[2,2] + x[2,3] + x[2,4] == 1.0\n",
      " x[3,1] + x[3,2] + x[3,3] + x[3,4] == 1.0\n",
      " x[4,1] + x[4,2] + x[4,3] + x[4,4] == 1.0\n",
      " x[5,1] + x[5,2] + x[5,3] + x[5,4] == 1.0\n",
      " x[6,1] + x[6,2] + x[6,3] + x[6,4] == 1.0\n",
      " x[7,1] + x[7,2] + x[7,3] + x[7,4] == 1.0\n",
      " x[1,1] + x[2,1] + x[3,1] + x[4,1] + x[5,1] + x[6,1] + x[7,1] - z[1] == 0.0\n",
      " x[1,2] + x[2,2] + x[3,2] + x[4,2] + x[5,2] + x[6,2] + x[7,2] - z[2] == 0.0\n",
      " x[1,3] + x[2,3] + x[3,3] + x[4,3] + x[5,3] + x[6,3] + x[7,3] - z[3] == 0.0\n",
      " x[1,4] + x[2,4] + x[3,4] + x[4,4] + x[5,4] + x[6,4] + x[7,4] - z[4] == 0.0\n",
      " 0.2 x[1,1] + 0.5 x[2,1] + 0.4 x[3,1] + 0.7 x[4,1] + 0.1 x[5,1] + 0.3 x[6,1] + 0.8 x[7,1] - y[1] <= 0.0\n",
      " 0.2 x[1,2] + 0.5 x[2,2] + 0.4 x[3,2] + 0.7 x[4,2] + 0.1 x[5,2] + 0.3 x[6,2] + 0.8 x[7,2] - 2 y[2] <= 0.0\n",
      " 0.2 x[1,3] + 0.5 x[2,3] + 0.4 x[3,3] + 0.7 x[4,3] + 0.1 x[5,3] + 0.3 x[6,3] + 0.8 x[7,3] - y[3] <= 0.0\n",
      " 0.2 x[1,4] + 0.5 x[2,4] + 0.4 x[3,4] + 0.7 x[4,4] + 0.1 x[5,4] + 0.3 x[6,4] + 0.8 x[7,4] - 3 y[4] <= 0.0\n"
     ]
    }
   ],
   "source": [
    "print(extended_mod)"
   ]
  },
  {
   "cell_type": "markdown",
   "metadata": {
    "slideshow": {
     "slide_type": "subslide"
    }
   },
   "source": [
    "This time we want to use the gurobi solver:"
   ]
  },
  {
   "cell_type": "code",
   "execution_count": 20,
   "metadata": {},
   "outputs": [
    {
     "name": "stderr",
     "output_type": "stream",
     "text": [
      "┌ Info: Recompiling stale cache file C:\\Users\\Toni Greif\\.julia\\compiled\\v1.1\\Gurobi\\do9v6.ji for Gurobi [2e9cd046-0924-5485-92f1-d5272153d98b]\n",
      "└ @ Base loading.jl:1184\n"
     ]
    }
   ],
   "source": [
    "using Gurobi"
   ]
  },
  {
   "cell_type": "markdown",
   "metadata": {},
   "source": [
    "Maybe you can have issues to load gurobi if the environment is not configured:"
   ]
  },
  {
   "cell_type": "code",
   "execution_count": 21,
   "metadata": {},
   "outputs": [
    {
     "name": "stdout",
     "output_type": "stream",
     "text": [
      "\u001b[32m\u001b[1m  Building\u001b[22m\u001b[39m Gurobi → `C:\\Users\\Toni Greif\\.julia\\packages\\Gurobi\\dlJep\\deps\\build.log`\n"
     ]
    }
   ],
   "source": [
    "Pkg.build(\"Gurobi\")\n",
    "using Gurobi"
   ]
  },
  {
   "cell_type": "markdown",
   "metadata": {
    "slideshow": {
     "slide_type": "subslide"
    }
   },
   "source": [
    "We are now ready to solve the extended problem:"
   ]
  },
  {
   "cell_type": "code",
   "execution_count": 22,
   "metadata": {},
   "outputs": [
    {
     "name": "stdout",
     "output_type": "stream",
     "text": [
      "Academic license - for non-commercial use only\r\n",
      "Academic license - for non-commercial use only\r\n",
      "Optimize a model with 15 rows, 36 columns and 92 nonzeros\r\n",
      "Variable types: 0 continuous, 36 integer (32 binary)\r\n",
      "Coefficient statistics:\r\n",
      "  Matrix range     [1e-01, 3e+00]\r\n",
      "  Objective range  [2e+00, 1e+01]\r\n",
      "  Bounds range     [0e+00, 0e+00]\r\n",
      "  RHS range        [1e+00, 1e+00]\r\n",
      "Found heuristic solution: objective 28.0000000\r\n",
      "Presolve removed 4 rows and 4 columns\r\n",
      "Presolve time: 0.01s\r\n",
      "Presolved: 11 rows, 32 columns, 60 nonzeros\r\n",
      "Variable types: 0 continuous, 32 integer (32 binary)\r\n",
      "\r\n",
      "Root relaxation: objective 2.350000e+01, 14 iterations, 0.00 seconds\r\n",
      "\r\n",
      "    Nodes    |    Current Node    |     Objective Bounds      |     Work\r\n",
      " Expl Unexpl |  Obj  Depth IntInf | Incumbent    BestBd   Gap | It/Node Time\r\n",
      "\r\n",
      "     0     0   23.50000    0    3   28.00000   23.50000  16.1%     -    0s\r\n",
      "H    0     0                      26.0000000   23.50000  9.62%     -    0s\r\n",
      "*    0     0               0      24.0000000   24.00000  0.00%     -    0s\r\n",
      "\r\n",
      "Cutting planes:\r\n",
      "  Gomory: 1\r\n",
      "\r\n",
      "Explored 1 nodes (16 simplex iterations) in 0.04 seconds\r\n",
      "Thread count was 4 (of 4 available processors)\r\n",
      "\r\n",
      "Solution count 3: 24 26 28 \r\n",
      "\r\n",
      "Optimal solution found (tolerance 1.00e-04)\r\n",
      "Best objective 2.400000000000e+01, best bound 2.400000000000e+01, gap 0.0000%\r\n"
     ]
    }
   ],
   "source": [
    "optimize!(extended_mod, with_optimizer(Gurobi.Optimizer))"
   ]
  },
  {
   "cell_type": "code",
   "execution_count": 23,
   "metadata": {
    "slideshow": {
     "slide_type": "subslide"
    }
   },
   "outputs": [
    {
     "name": "stdout",
     "output_type": "stream",
     "text": [
      "Model status: OPTIMAL\n",
      "Objective value: 24.0\n",
      "x = 2-dimensional DenseAxisArray{Float64,2,...} with index sets:\n",
      "    Dimension 1, 1:7\n",
      "    Dimension 2, 1:4\n",
      "And data, a 7×4 Array{Float64,2}:\n",
      "  1.0  -0.0  -0.0  -0.0\n",
      " -0.0   1.0   0.0  -0.0\n",
      "  1.0   0.0  -0.0  -0.0\n",
      " -0.0   1.0  -0.0  -0.0\n",
      "  1.0  -0.0  -0.0  -0.0\n",
      "  1.0  -0.0  -0.0  -0.0\n",
      " -0.0   1.0  -0.0   0.0\n",
      "y = 1-dimensional DenseAxisArray{Float64,1,...} with index sets:\n",
      "    Dimension 1, 1:4\n",
      "And data, a 4-element Array{Float64,1}:\n",
      "  1.0\n",
      "  1.0\n",
      "  0.0\n",
      " -0.0\n",
      "z = 1-dimensional DenseAxisArray{Float64,1,...} with index sets:\n",
      "    Dimension 1, 1:4\n",
      "And data, a 4-element Array{Float64,1}:\n",
      " 4.0\n",
      " 3.0\n",
      " 0.0\n",
      " 0.0\n"
     ]
    }
   ],
   "source": [
    "println(\"Model status: \", termination_status(extended_mod))\n",
    "println(\"Objective value: \", objective_value(extended_mod))\n",
    "println(\"x = \", value.(x_new))\n",
    "println(\"y = \", value.(y_new))\n",
    "println(\"z = \", value.(z))"
   ]
  },
  {
   "cell_type": "markdown",
   "metadata": {
    "slideshow": {
     "slide_type": "slide"
    }
   },
   "source": [
    "# Credits\n",
    "Parts of this presenation are adapted from:\n",
    "- https://github.com/JuliaCon/presentations/blob/master/JuliaOpt/JuliaOpt.pdf\n",
    "- http://www.juliaopt.org/notebooks/Shuvomoy%20-%20Getting%20started%20with%20JuMP.html"
   ]
  }
 ],
 "metadata": {
  "celltoolbar": "Slideshow",
  "kernelspec": {
   "display_name": "Julia 1.1.1",
   "language": "julia",
   "name": "julia-1.1"
  },
  "language_info": {
   "file_extension": ".jl",
   "mimetype": "application/julia",
   "name": "julia",
   "version": "1.1.1"
  },
  "rise": {
   "enable_chalkboard": false,
   "overlay": "<div class='logo'><img src='images/uniwue4c.png'></div>",
   "scroll": true
  },
  "toc": {
   "base_numbering": 1,
   "nav_menu": {},
   "number_sections": true,
   "sideBar": true,
   "skip_h1_title": true,
   "title_cell": "Agenda",
   "title_sidebar": "Contents",
   "toc_cell": true,
   "toc_position": {},
   "toc_section_display": true,
   "toc_window_display": false
  }
 },
 "nbformat": 4,
 "nbformat_minor": 2
}
