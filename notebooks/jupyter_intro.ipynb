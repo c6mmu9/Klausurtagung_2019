{
 "cells": [
  {
   "cell_type": "markdown",
   "metadata": {
    "slideshow": {
     "slide_type": "slide"
    }
   },
   "source": [
    "*Klausurtagung 2019*\n",
    "\n",
    "# Introduction to Juypter\n",
    "\n",
    "Matthias Griebel<br>\n",
    "Lehrstuhl für Wirtschaftsinformatik und Informationsmanagement\n",
    "\n",
    "*Rothenburg ob der Tauber, August 7-9, 2019*"
   ]
  },
  {
   "cell_type": "markdown",
   "metadata": {},
   "source": [
    "<p><strong>Hallo&nbsp;</strong></p>\n",
    "\n",
    "<p>&nbsp;</p>\n"
   ]
  },
  {
   "cell_type": "markdown",
   "metadata": {
    "slideshow": {
     "slide_type": "subslide"
    },
    "toc": true
   },
   "source": [
    "<h1>Agenda<span class=\"tocSkip\"></span></h1>\n",
    "<div class=\"toc\"><ul class=\"toc-item\"><li><span><a href=\"#Motivation\" data-toc-modified-id=\"Motivation-1\"><span class=\"toc-item-num\">1&nbsp;&nbsp;</span>Motivation</a></span></li><li><span><a href=\"#Jupyter\" data-toc-modified-id=\"Jupyter-2\"><span class=\"toc-item-num\">2&nbsp;&nbsp;</span>Jupyter</a></span><ul class=\"toc-item\"><li><span><a href=\"#What-is-the-Jupyter-Notebook?\" data-toc-modified-id=\"What-is-the-Jupyter-Notebook?-2.1\"><span class=\"toc-item-num\">2.1&nbsp;&nbsp;</span>What is the Jupyter Notebook?</a></span></li><li><span><a href=\"#Components\" data-toc-modified-id=\"Components-2.2\"><span class=\"toc-item-num\">2.2&nbsp;&nbsp;</span>Components</a></span></li></ul></li><li><span><a href=\"#Running-Code\" data-toc-modified-id=\"Running-Code-3\"><span class=\"toc-item-num\">3&nbsp;&nbsp;</span>Running Code</a></span><ul class=\"toc-item\"><li><span><a href=\"#Code-cells-allow-you-to-enter-and-run-code\" data-toc-modified-id=\"Code-cells-allow-you-to-enter-and-run-code-3.1\"><span class=\"toc-item-num\">3.1&nbsp;&nbsp;</span>Code cells allow you to enter and run code</a></span></li><li><span><a href=\"#Managing-the-Kernel\" data-toc-modified-id=\"Managing-the-Kernel-3.2\"><span class=\"toc-item-num\">3.2&nbsp;&nbsp;</span>Managing the Kernel</a></span></li><li><span><a href=\"#Cell-menu\" data-toc-modified-id=\"Cell-menu-3.3\"><span class=\"toc-item-num\">3.3&nbsp;&nbsp;</span>Cell menu</a></span></li><li><span><a href=\"#(Large)-outputs\" data-toc-modified-id=\"(Large)-outputs-3.4\"><span class=\"toc-item-num\">3.4&nbsp;&nbsp;</span>(Large) outputs</a></span></li><li><span><a href=\"#Help-and-Documentation\" data-toc-modified-id=\"Help-and-Documentation-3.5\"><span class=\"toc-item-num\">3.5&nbsp;&nbsp;</span>Help and Documentation</a></span></li></ul></li><li><span><a href=\"#Markdown-Cells\" data-toc-modified-id=\"Markdown-Cells-4\"><span class=\"toc-item-num\">4&nbsp;&nbsp;</span>Markdown Cells</a></span><ul class=\"toc-item\"><li><span><a href=\"#Markdown-basics\" data-toc-modified-id=\"Markdown-basics-4.1\"><span class=\"toc-item-num\">4.1&nbsp;&nbsp;</span>Markdown basics</a></span></li><li><span><a href=\"#Headings\" data-toc-modified-id=\"Headings-4.2\"><span class=\"toc-item-num\">4.2&nbsp;&nbsp;</span>Headings</a></span></li><li><span><a href=\"#Embedded-code\" data-toc-modified-id=\"Embedded-code-4.3\"><span class=\"toc-item-num\">4.3&nbsp;&nbsp;</span>Embedded code</a></span></li><li><span><a href=\"#LaTeX-equations\" data-toc-modified-id=\"LaTeX-equations-4.4\"><span class=\"toc-item-num\">4.4&nbsp;&nbsp;</span>LaTeX equations</a></span></li><li><span><a href=\"#GitHub-flavored-markdown\" data-toc-modified-id=\"GitHub-flavored-markdown-4.5\"><span class=\"toc-item-num\">4.5&nbsp;&nbsp;</span>GitHub flavored markdown</a></span></li><li><span><a href=\"#General-HTML\" data-toc-modified-id=\"General-HTML-4.6\"><span class=\"toc-item-num\">4.6&nbsp;&nbsp;</span>General HTML</a></span></li><li><span><a href=\"#Local-files\" data-toc-modified-id=\"Local-files-4.7\"><span class=\"toc-item-num\">4.7&nbsp;&nbsp;</span>Local files</a></span></li><li><span><a href=\"#Unofficial-Jupyter-Notebook-Extensions\" data-toc-modified-id=\"Unofficial-Jupyter-Notebook-Extensions-4.8\"><span class=\"toc-item-num\">4.8&nbsp;&nbsp;</span>Unofficial Jupyter Notebook Extensions</a></span></li></ul></li><li><span><a href=\"#Machine-Learning-at-Scale\" data-toc-modified-id=\"Machine-Learning-at-Scale-5\"><span class=\"toc-item-num\">5&nbsp;&nbsp;</span>Machine Learning at Scale</a></span><ul class=\"toc-item\"><li><span><a href=\"#Binder\" data-toc-modified-id=\"Binder-5.1\"><span class=\"toc-item-num\">5.1&nbsp;&nbsp;</span>Binder</a></span></li><li><span><a href=\"#Colab\" data-toc-modified-id=\"Colab-5.2\"><span class=\"toc-item-num\">5.2&nbsp;&nbsp;</span>Colab</a></span></li><li><span><a href=\"#Performance-Computing-Cluster\" data-toc-modified-id=\"Performance-Computing-Cluster-5.3\"><span class=\"toc-item-num\">5.3&nbsp;&nbsp;</span>Performance Computing Cluster</a></span></li><li><span><a href=\"#Google-Cloud-machine-learning-engine\" data-toc-modified-id=\"Google-Cloud-machine-learning-engine-5.4\"><span class=\"toc-item-num\">5.4&nbsp;&nbsp;</span>Google Cloud machine learning engine</a></span></li><li><span><a href=\"#Other-Cloud-Environments\" data-toc-modified-id=\"Other-Cloud-Environments-5.5\"><span class=\"toc-item-num\">5.5&nbsp;&nbsp;</span>Other Cloud Environments</a></span></li></ul></li></ul></div>"
   ]
  },
  {
   "cell_type": "markdown",
   "metadata": {
    "slideshow": {
     "slide_type": "slide"
    }
   },
   "source": [
    "## Motivation"
   ]
  },
  {
   "cell_type": "markdown",
   "metadata": {
    "slideshow": {
     "slide_type": "subslide"
    }
   },
   "source": [
    "__eLife: Towards a scalable solution for reproducible articles__\n",
    "\n",
    "On May 22, 2019, eLife announced a roadmap towards an open, scalable infrastructure for the publication of computationally reproducible articles (__Reproducible Document Stack__, RDS).\n",
    "<img src=\"https://elifesciences.org/assets/patterns/img/patterns/organisms/elife-logo-full.b1283c9a.svg\" style=\"width:20%\">\n",
    "\n",
    "> \"Interoperability, modularity and openness are at the heart of the RDS’s design and development.\"\n",
    "\n",
    "- RDS is enabling interoperability with existing authoring tools for the __Jupyter and R Markdown__ communities."
   ]
  },
  {
   "cell_type": "markdown",
   "metadata": {
    "slideshow": {
     "slide_type": "subslide"
    }
   },
   "source": [
    "__Papers With Code__\n",
    "\n",
    "\n",
    "[Papers With Code](https://paperswithcode.com/) highlights trending ML research and the code to implement it. \n",
    "> The mission of Papers With Code is to create a free and open resource with Machine Learning papers, code and evaluation tables.\n",
    "\n",
    "<img src=\"images/paperswc.png\" style=\"width:80%\">"
   ]
  },
  {
   "cell_type": "markdown",
   "metadata": {
    "slideshow": {
     "slide_type": "slide"
    }
   },
   "source": [
    "## Jupyter"
   ]
  },
  {
   "cell_type": "markdown",
   "metadata": {
    "slideshow": {
     "slide_type": "subslide"
    }
   },
   "source": [
    "\n",
    "<img src=\"https://github.com/matjesg/AIS_2019/raw/master/notebooks/images/01/jupyter_nature.png\" style=\"width:40%; float:right\">\n",
    "\n",
    "Project Jupyter exists to develop open-source software, open-standards, and services for interactive computing across dozens of programming languages (https://jupyter.org/).\n",
    "\n",
    "Perkel, J. M. (2018). __Why Jupyter is data scientists' computational notebook of choice__. Nature, 563(7729), 145.\n",
    "[Link](https://www.nature.com/articles/d41586-018-07196-1)\n",
    "\n",
    "\n",
    "\n",
    "\n",
    "\n",
    "\n",
    "\n"
   ]
  },
  {
   "cell_type": "markdown",
   "metadata": {
    "slideshow": {
     "slide_type": "subslide"
    }
   },
   "source": [
    "\n",
    "### What is the Jupyter Notebook?"
   ]
  },
  {
   "cell_type": "markdown",
   "metadata": {
    "slideshow": {
     "slide_type": "-"
    }
   },
   "source": [
    "<img src=\"https://upload.wikimedia.org/wikipedia/commons/thumb/3/38/Jupyter_logo.svg/250px-Jupyter_logo.svg.png\" style=\"width:20%; float:right\">\n",
    "\n",
    "The Jupyter Notebook is an **interactive computing environment** that enables users to author notebook documents that include: \n",
    "- Live code\n",
    "- Interactive widgets\n",
    "- Plots\n",
    "- Narrative text\n",
    "- Equations\n",
    "- Images\n",
    "- Video\n",
    "\n",
    "These documents provide a **complete and self-contained record of a computation** that can be converted to various formats and shared with others using email, [Dropbox](https://www.dropbox.com/), version control systems (like git/[GitHub](https://github.com)) or [nbviewer.jupyter.org](https://nbviewer.jupyter.org)."
   ]
  },
  {
   "cell_type": "markdown",
   "metadata": {
    "slideshow": {
     "slide_type": "subslide"
    }
   },
   "source": [
    "### Components"
   ]
  },
  {
   "cell_type": "markdown",
   "metadata": {},
   "source": [
    "The Jupyter Notebook combines three components:\n",
    "\n",
    "* **The notebook web application**: An interactive web application for writing and running code interactively and authoring notebook documents.\n",
    "* **Kernels**: Separate processes started by the notebook web application that runs users' code in a given language and returns output back to the notebook web application. The kernel also handles things like computations for interactive widgets, tab completion and introspection. \n",
    "* **Notebook documents**: Self-contained documents that contain a representation of all content visible in the notebook web application, including inputs and outputs of the computations, narrative\n",
    "text, equations, images, and rich media representations of objects. Each notebook document has its own kernel."
   ]
  },
  {
   "cell_type": "markdown",
   "metadata": {
    "slideshow": {
     "slide_type": "subslide"
    }
   },
   "source": [
    "#### Notebook web application"
   ]
  },
  {
   "cell_type": "markdown",
   "metadata": {},
   "source": [
    "The notebook web application enables users to:\n",
    "\n",
    "* **Edit code in the browser**, with automatic syntax highlighting, indentation, and tab completion/introspection.\n",
    "* **Run code from the browser**, with the results of computations attached to the code which generated them.\n",
    "* See the results of computations with **rich media representations**, such as HTML, LaTeX, PNG, SVG, PDF, etc.\n",
    "* Create and use **interactive JavaScript widgets**, which bind interactive user interface controls and visualizations to reactive kernel side computations.\n",
    "* Author **narrative text** using the [Markdown](https://daringfireball.net/projects/markdown/) markup language.\n",
    "* Include mathematical equations using **LaTeX syntax in Markdown**, which are rendered in-browser by [MathJax](https://www.mathjax.org/)."
   ]
  },
  {
   "cell_type": "markdown",
   "metadata": {
    "slideshow": {
     "slide_type": "subslide"
    }
   },
   "source": [
    "#### Kernels"
   ]
  },
  {
   "cell_type": "markdown",
   "metadata": {},
   "source": [
    "Through Jupyter's kernel and messaging architecture, the Notebook allows code to be run in a range of different programming languages.  For each notebook document that a user opens, the web application starts a kernel that runs the code for that notebook. Each kernel is capable of running code in a single programming language and there are kernels available in the following languages:\n",
    "\n",
    "* Python(https://github.com/ipython/ipython)\n",
    "* Julia (https://github.com/JuliaLang/IJulia.jl)\n",
    "* R (https://github.com/IRkernel/IRkernel)\n",
    "* Ruby (https://github.com/minrk/iruby)\n",
    "* Haskell (https://github.com/gibiansky/IHaskell)\n",
    "* Scala (https://github.com/Bridgewater/scala-notebook)\n",
    "* node.js (https://gist.github.com/Carreau/4279371)\n",
    "* Go (https://github.com/takluyver/igo)"
   ]
  },
  {
   "cell_type": "markdown",
   "metadata": {
    "slideshow": {
     "slide_type": "subslide"
    }
   },
   "source": [
    "#### Notebook documents"
   ]
  },
  {
   "cell_type": "markdown",
   "metadata": {},
   "source": [
    "Notebook documents contain the **inputs and outputs** of an interactive session as well as **narrative text** that accompanies the code but is not meant for execution. **Rich output** generated by running code, including HTML, images, video, and plots, is embeddeed in the notebook, which makes it a complete and self-contained record of a computation. "
   ]
  },
  {
   "cell_type": "markdown",
   "metadata": {},
   "source": [
    "When you run the notebook web application on your computer, notebook documents are just **files on your local filesystem with a `.ipynb` extension**. This allows you to use familiar workflows for organizing your notebooks into folders and sharing them with others."
   ]
  },
  {
   "cell_type": "markdown",
   "metadata": {
    "slideshow": {
     "slide_type": "slide"
    }
   },
   "source": [
    "##  Running Code"
   ]
  },
  {
   "cell_type": "markdown",
   "metadata": {},
   "source": [
    "First and foremost, the Jupyter Notebook is an interactive environment for writing and running code. The notebook is capable of running code in a wide range of languages. However, each notebook is associated with a single kernel.  This notebook is associated with the IPython kernel, therefore runs Python code."
   ]
  },
  {
   "cell_type": "markdown",
   "metadata": {
    "slideshow": {
     "slide_type": "subslide"
    }
   },
   "source": [
    "### Code cells allow you to enter and run code"
   ]
  },
  {
   "cell_type": "markdown",
   "metadata": {},
   "source": [
    "Run a code cell using `Shift-Enter` or pressing the <button class='btn btn-default btn-xs'><i class=\"icon-step-forward fa fa-step-forward\"></i></button> button in the toolbar above:"
   ]
  },
  {
   "cell_type": "code",
   "execution_count": 3,
   "metadata": {},
   "outputs": [],
   "source": [
    "a <- 10"
   ]
  },
  {
   "cell_type": "code",
   "execution_count": 2,
   "metadata": {},
   "outputs": [
    {
     "data": {
      "text/html": [
       "10"
      ],
      "text/latex": [
       "10"
      ],
      "text/markdown": [
       "10"
      ],
      "text/plain": [
       "[1] 10"
      ]
     },
     "metadata": {},
     "output_type": "display_data"
    }
   ],
   "source": [
    "a"
   ]
  },
  {
   "cell_type": "markdown",
   "metadata": {},
   "source": [
    "There are two other keyboard shortcuts for running code:\n",
    "\n",
    "* `Alt-Enter` runs the current cell and inserts a new one below.\n",
    "* `Ctrl-Enter` run the current cell and enters command mode."
   ]
  },
  {
   "cell_type": "markdown",
   "metadata": {
    "slideshow": {
     "slide_type": "subslide"
    }
   },
   "source": [
    "### Managing the Kernel"
   ]
  },
  {
   "cell_type": "markdown",
   "metadata": {},
   "source": [
    "__Stop__\n",
    "\n",
    "Code is run in a separate process called the Kernel.  The Kernel can be interrupted or restarted.  Try running the following cell and then hit the <button class='btn btn-default btn-xs'><i class='icon-stop fa fa-stop'></i></button> button in the toolbar above."
   ]
  },
  {
   "cell_type": "markdown",
   "metadata": {},
   "source": [
    "__Restart__"
   ]
  },
  {
   "cell_type": "markdown",
   "metadata": {},
   "source": [
    "The kernel maintains the state of a notebook's computations. You can reset this state by restarting the kernel. This is done by clicking on the <button class='btn btn-default btn-xs'><i class='fa fa-repeat icon-repeat'></i></button> in the toolbar above."
   ]
  },
  {
   "cell_type": "markdown",
   "metadata": {
    "slideshow": {
     "slide_type": "subslide"
    }
   },
   "source": [
    "### Cell menu"
   ]
  },
  {
   "cell_type": "markdown",
   "metadata": {},
   "source": [
    "The \"Cell\" menu has a number of menu items for running code in different ways. These includes:\n",
    "\n",
    "* Run and Select Below\n",
    "* Run and Insert Below\n",
    "* Run All\n",
    "* Run All Above\n",
    "* Run All Below"
   ]
  },
  {
   "cell_type": "markdown",
   "metadata": {
    "slideshow": {
     "slide_type": "subslide"
    }
   },
   "source": [
    "### (Large) outputs"
   ]
  },
  {
   "cell_type": "markdown",
   "metadata": {},
   "source": [
    "All output is displayed as it is generated in the Kernel"
   ]
  },
  {
   "cell_type": "code",
   "execution_count": 9,
   "metadata": {
    "scrolled": true
   },
   "outputs": [
    {
     "name": "stdout",
     "output_type": "stream",
     "text": [
      "[1] 1\n",
      "[1] 2\n",
      "[1] 3\n",
      "[1] 4\n",
      "[1] 5\n",
      "[1] 6\n",
      "[1] 7\n",
      "[1] 8\n",
      "[1] 9\n",
      "[1] 10\n",
      "[1] 11\n",
      "[1] 12\n",
      "[1] 13\n",
      "[1] 14\n",
      "[1] 15\n",
      "[1] 16\n",
      "[1] 17\n",
      "[1] 18\n",
      "[1] 19\n",
      "[1] 20\n",
      "[1] 21\n",
      "[1] 22\n",
      "[1] 23\n",
      "[1] 24\n",
      "[1] 25\n",
      "[1] 26\n",
      "[1] 27\n",
      "[1] 28\n",
      "[1] 29\n",
      "[1] 30\n",
      "[1] 31\n",
      "[1] 32\n",
      "[1] 33\n",
      "[1] 34\n",
      "[1] 35\n",
      "[1] 36\n",
      "[1] 37\n",
      "[1] 38\n",
      "[1] 39\n",
      "[1] 40\n",
      "[1] 41\n",
      "[1] 42\n",
      "[1] 43\n",
      "[1] 44\n",
      "[1] 45\n",
      "[1] 46\n",
      "[1] 47\n",
      "[1] 48\n",
      "[1] 49\n",
      "[1] 50\n",
      "[1] 51\n",
      "[1] 52\n",
      "[1] 53\n",
      "[1] 54\n",
      "[1] 55\n",
      "[1] 56\n",
      "[1] 57\n",
      "[1] 58\n",
      "[1] 59\n",
      "[1] 60\n",
      "[1] 61\n",
      "[1] 62\n",
      "[1] 63\n",
      "[1] 64\n",
      "[1] 65\n",
      "[1] 66\n",
      "[1] 67\n",
      "[1] 68\n",
      "[1] 69\n",
      "[1] 70\n",
      "[1] 71\n",
      "[1] 72\n",
      "[1] 73\n",
      "[1] 74\n",
      "[1] 75\n",
      "[1] 76\n",
      "[1] 77\n",
      "[1] 78\n",
      "[1] 79\n",
      "[1] 80\n",
      "[1] 81\n",
      "[1] 82\n",
      "[1] 83\n",
      "[1] 84\n",
      "[1] 85\n",
      "[1] 86\n",
      "[1] 87\n",
      "[1] 88\n",
      "[1] 89\n",
      "[1] 90\n",
      "[1] 91\n",
      "[1] 92\n",
      "[1] 93\n",
      "[1] 94\n",
      "[1] 95\n",
      "[1] 96\n",
      "[1] 97\n",
      "[1] 98\n",
      "[1] 99\n",
      "[1] 100\n"
     ]
    }
   ],
   "source": [
    "for (i in 1:100){\n",
    "    print(i) \n",
    "}"
   ]
  },
  {
   "cell_type": "code",
   "execution_count": 10,
   "metadata": {},
   "outputs": [
    {
     "data": {
      "text/html": [
       "100"
      ],
      "text/latex": [
       "100"
      ],
      "text/markdown": [
       "100"
      ],
      "text/plain": [
       "[1] 100"
      ]
     },
     "metadata": {},
     "output_type": "display_data"
    }
   ],
   "source": [
    "i"
   ]
  },
  {
   "cell_type": "markdown",
   "metadata": {
    "slideshow": {
     "slide_type": "subslide"
    }
   },
   "source": [
    "### Help and Documentation"
   ]
  },
  {
   "cell_type": "markdown",
   "metadata": {
    "slideshow": {
     "slide_type": "fragment"
    }
   },
   "source": [
    "#### Accessing the documentation with '?'\n",
    "\n",
    "The question mark is a simple shortcut to get help\n",
    "\n",
    "```R\n",
    "?print\n",
    "```"
   ]
  },
  {
   "cell_type": "code",
   "execution_count": 12,
   "metadata": {},
   "outputs": [],
   "source": [
    "print"
   ]
  },
  {
   "cell_type": "markdown",
   "metadata": {
    "slideshow": {
     "slide_type": "slide"
    }
   },
   "source": [
    "## Markdown Cells"
   ]
  },
  {
   "cell_type": "markdown",
   "metadata": {
    "slideshow": {
     "slide_type": "slide"
    }
   },
   "source": [
    "Text can be added to Jupyter Notebooks using Markdown cells.  You can change the cell type to Markdown by using the `Cell` menu, the toolbar, or the key shortcut `m`.  Markdown is a popular markup language that is a superset of HTML. Its specification can be found here:\n",
    "\n",
    "<https://daringfireball.net/projects/markdown/>"
   ]
  },
  {
   "cell_type": "markdown",
   "metadata": {
    "slideshow": {
     "slide_type": "subslide"
    }
   },
   "source": [
    "### Markdown basics"
   ]
  },
  {
   "cell_type": "markdown",
   "metadata": {
    "slideshow": {
     "slide_type": "-"
    }
   },
   "source": [
    "You can make text _italic_ or **bold** by surrounding a block of text with a single or double * respectively"
   ]
  },
  {
   "cell_type": "markdown",
   "metadata": {
    "slideshow": {
     "slide_type": "subslide"
    }
   },
   "source": [
    "You can build nested itemized or enumerated lists:\n",
    "\n",
    "* One\n",
    "  - Sublist\n",
    "    - This\n",
    "  - Sublist\n",
    "    - That\n",
    "    - The other thing\n",
    "* Two\n",
    "  - Sublist\n",
    "* Three\n",
    "  - Sublist"
   ]
  },
  {
   "cell_type": "markdown",
   "metadata": {
    "slideshow": {
     "slide_type": "subslide"
    }
   },
   "source": [
    "Now another list:\n",
    "\n",
    "1. Here we go\n",
    "    1. Sublist\n",
    "    2. Sublist\n",
    "2. There we go\n",
    "3. Now this"
   ]
  },
  {
   "cell_type": "markdown",
   "metadata": {
    "slideshow": {
     "slide_type": "subslide"
    }
   },
   "source": [
    "Here is a blockquote:\n",
    "\n",
    "> Beautiful is better than ugly.\n",
    "> Explicit is better than implicit.\n",
    "> Simple is better than complex.\n",
    "> Complex is better than complicated."
   ]
  },
  {
   "cell_type": "markdown",
   "metadata": {
    "slideshow": {
     "slide_type": "subslide"
    }
   },
   "source": [
    "And shorthand for links:\n",
    "\n",
    "[Jupyter's website](https://jupyter.org)"
   ]
  },
  {
   "cell_type": "markdown",
   "metadata": {
    "slideshow": {
     "slide_type": "subslide"
    }
   },
   "source": [
    "You can use backslash \\ to generate literal characters which would otherwise have special meaning in the Markdown syntax.\n",
    "\n",
    "```\n",
    "\\*literal asterisks\\*\n",
    " *literal asterisks*\n",
    "```\n",
    "\n",
    "Use double backslash \\ \\ to generate the literal $ symbol."
   ]
  },
  {
   "cell_type": "markdown",
   "metadata": {
    "slideshow": {
     "slide_type": "subslide"
    }
   },
   "source": [
    "### Headings"
   ]
  },
  {
   "cell_type": "markdown",
   "metadata": {},
   "source": [
    "You can add headings by starting a line with one (or multiple) `#` followed by a space, as in the following example:\n",
    "\n",
    "```\n",
    "# Heading 1\n",
    "# Heading 2\n",
    "## Heading 2.1\n",
    "## Heading 2.2\n",
    "```"
   ]
  },
  {
   "cell_type": "markdown",
   "metadata": {
    "slideshow": {
     "slide_type": "subslide"
    }
   },
   "source": [
    "### Embedded code"
   ]
  },
  {
   "cell_type": "markdown",
   "metadata": {},
   "source": [
    "You can embed code meant for illustration instead of execution in Python:\n",
    "\n",
    "    def f(x):\n",
    "        \"\"\"a docstring\"\"\"\n",
    "        return x**2\n",
    "\n",
    "or other languages:\n",
    "\n",
    "    library(tidyverse)\n",
    "\n",
    "    ggplot(data = mpg) + \n",
    "      geom_point(mapping = aes(x = displ, y = hwy))"
   ]
  },
  {
   "cell_type": "markdown",
   "metadata": {},
   "source": [
    "```R\n",
    "    ggplot(data = mpg) + \n",
    "      geom_point(mapping = aes(x = displ, y = hwy))\n",
    "````"
   ]
  },
  {
   "cell_type": "markdown",
   "metadata": {
    "slideshow": {
     "slide_type": "subslide"
    }
   },
   "source": [
    "### LaTeX equations"
   ]
  },
  {
   "cell_type": "markdown",
   "metadata": {},
   "source": [
    "You can include mathematical expressions both inline: \n",
    "$e^{i\\pi} + 1 = 0$  and displayed:\n",
    "\n",
    "$$e^x=\\sum_{i=0}^\\infty \\frac{1}{i!}x^i$$\n",
    "\n",
    "Inline expressions can be added by surrounding the latex code with `$`:\n",
    "\n",
    "```\n",
    "$e^{i\\pi} + 1 = 0$\n",
    "```\n",
    "\n",
    "Expressions on their own line are surrounded by `$$`:\n",
    "\n",
    "```latex\n",
    "$$e^x=\\sum_{i=0}^\\infty \\frac{1}{i!}x^i$$\n",
    "```"
   ]
  },
  {
   "cell_type": "markdown",
   "metadata": {
    "slideshow": {
     "slide_type": "subslide"
    }
   },
   "source": [
    "### GitHub flavored markdown"
   ]
  },
  {
   "cell_type": "markdown",
   "metadata": {},
   "source": [
    "The Notebook webapp supports Github flavored markdown meaning that you can use triple backticks for code blocks:\n",
    "\n",
    "    ```python\n",
    "    print \"Hello World\"\n",
    "    ```\n",
    "\n",
    "    ```javascript\n",
    "    console.log(\"Hello World\")\n",
    "    ```\n",
    "\n",
    "Gives:\n",
    "\n",
    "```python\n",
    "print \"Hello World\"\n",
    "```\n",
    "\n",
    "```javascript\n",
    "console.log(\"Hello World\")\n",
    "```"
   ]
  },
  {
   "cell_type": "markdown",
   "metadata": {
    "slideshow": {
     "slide_type": "subslide"
    }
   },
   "source": [
    "And a table like this: \n",
    "\n",
    "    | This | is   |\n",
    "    |------|------|\n",
    "    |   a  | table| \n",
    "\n",
    "A nice HTML Table:\n",
    "\n",
    "| This | is   |\n",
    "|------|------|\n",
    "|   a  | table| "
   ]
  },
  {
   "cell_type": "markdown",
   "metadata": {
    "slideshow": {
     "slide_type": "subslide"
    }
   },
   "source": [
    "### General HTML"
   ]
  },
  {
   "cell_type": "markdown",
   "metadata": {},
   "source": [
    "Because Markdown is a superset of HTML you can even add things like HTML tables:\n",
    "\n",
    "<table>\n",
    "<tr>\n",
    "<th>Header 1</th>\n",
    "<th>Header 2</th>\n",
    "</tr>\n",
    "<tr>\n",
    "<td>row 1, cell 1</td>\n",
    "<td>row 1, cell 2</td>\n",
    "</tr>\n",
    "<tr>\n",
    "<td>row 2, cell 1</td>\n",
    "<td>row 2, cell 2</td>\n",
    "</tr>\n",
    "</table>"
   ]
  },
  {
   "cell_type": "markdown",
   "metadata": {
    "slideshow": {
     "slide_type": "subslide"
    }
   },
   "source": [
    "### Local files"
   ]
  },
  {
   "cell_type": "markdown",
   "metadata": {},
   "source": [
    "If you have local files in your Notebook directory, you can refer to these files in Markdown cells directly:\n",
    "\n",
    "    [subdirectory/]<filename>\n",
    "\n",
    "For example, in the images folder, we have the *Universität Würzburg* logo:\n",
    "\n",
    "    <img src=\"images/uniwue4c.png\" />\n",
    "\n",
    "<img src=\"images/uniwue4c.png\" style=\"width:20%\"/>"
   ]
  },
  {
   "cell_type": "markdown",
   "metadata": {
    "slideshow": {
     "slide_type": "subslide"
    }
   },
   "source": [
    "__Videos__\n",
    "\n",
    "with the HTML5 video tag:\n",
    "\n",
    "    <video controls src=\"../images/animation.m4v\" />\n",
    "\n",
    "\n",
    "These do not embed the data into the notebook file, and require that the files exist when you are viewing the notebook (here, file does not exist).\n",
    "\n",
    "<video controls src=\"../images/animation.m4v\" />\n",
    "\n"
   ]
  },
  {
   "cell_type": "markdown",
   "metadata": {
    "slideshow": {
     "slide_type": "subslide"
    }
   },
   "source": [
    "### Unofficial Jupyter Notebook Extensions\n",
    "\n",
    "The [jupyter_contrib_nbextensions package](https://jupyter-contrib-nbextensions.readthedocs.io/en/latest/index.html) contains a collection of community-contributed unofficial extensions that add functionality to the Jupyter notebook. These extensions are mostly written in Javascript and will be loaded locally in your browser.\n",
    "\n",
    "You can then open the nbextensions tab on the tree (dashboard/file browser) notebook page to configure nbextensions. "
   ]
  },
  {
   "cell_type": "markdown",
   "metadata": {
    "slideshow": {
     "slide_type": "subslide"
    }
   },
   "source": [
    "<img src=\"https://raw.githubusercontent.com/Jupyter-contrib/jupyter_nbextensions_configurator/master/src/jupyter_nbextensions_configurator/static/nbextensions_configurator/icon.png\" />"
   ]
  },
  {
   "cell_type": "markdown",
   "metadata": {
    "slideshow": {
     "slide_type": "slide"
    }
   },
   "source": [
    "##  Machine Learning at Scale"
   ]
  },
  {
   "cell_type": "markdown",
   "metadata": {
    "slideshow": {
     "slide_type": "subslide"
    }
   },
   "source": [
    "### Binder\n",
    "\n",
    "<img src=\"https://mybinder.readthedocs.io/en/latest/_static/logo.png\" style=\"width:20%; float:right\">\n",
    "\n",
    "- allows to create custom computing environments \n",
    "- that can be shared and used by many remote users\n",
    "\n",
    "It is powered by BinderHub, which is an open-source tool that deploys the [Binder service in the cloud](https://mybinder.org/).\n"
   ]
  },
  {
   "cell_type": "markdown",
   "metadata": {
    "slideshow": {
     "slide_type": "subslide"
    }
   },
   "source": [
    "### Colab\n",
    "\n",
    "<img src=\"https://colab.research.google.com/img/colab_favicon.ico\" style=\"width:20%; float:right\">\n",
    "\n",
    "[Colaboratory](https://colab.research.google.com/) is a free Jupyter notebook environment that requires no setup and runs entirely in the cloud.\n",
    "\n",
    "With Colaboratory you can \n",
    "- write and execute code, \n",
    "- save and share your analyses, and \n",
    "- access powerful computing resources (GPU and TPU), \n",
    "\n",
    "all for free from your browser. [More information](https://colab.research.google.com/notebooks/welcome.ipynb)"
   ]
  },
  {
   "cell_type": "markdown",
   "metadata": {
    "slideshow": {
     "slide_type": "subslide"
    }
   },
   "source": [
    "### Performance Computing Cluster\n",
    "\n",
    "Das Rechenzentrum betreibt einen High Performance Computing Cluster ([HPC-Cluster](https://www.rz.uni-wuerzburg.de/dienste/rzserver/high-performance-computing/)). Dieser besteht aus \n",
    "\n",
    "- 44 Compute Knoten\n",
    "- 7 Compute Knoten mit Infiniband\n",
    "- 5 GPU Knoten\n",
    "- 5 FAT Knoten\n",
    "- 5 um GPUs erweiterbare Knoten\n",
    "\n",
    "Daneben steht ein Speichersystem mit 500TB zur Verfügung."
   ]
  },
  {
   "cell_type": "markdown",
   "metadata": {
    "slideshow": {
     "slide_type": "subslide"
    }
   },
   "source": [
    "__HPC Zugang__\n",
    "\n",
    "\n",
    "Zur Beantragung von Rechenzeit ist ein [Formular](https://www.rz.uni-wuerzburg.de/dienste/rzserver/high-performance-computing/) auszufüllen.\n",
    "\n",
    "Das HPC-System wird primär im Batch-Modus über ein Queuing-System (SLURM) betrieben. Des weiteren können virtuelle Maschinen über einen Private-Cloud-Ansatz zur Verfügung gestellt werden.\n",
    "\n",
    "Für Rechenjobs stehen, je nach Anforderung, unterschiedliche Laufzeiten zur Verfügung.\n",
    "\n",
    "*Wir nutzen derzeit nur Openstack:* https://julia.uni-wuerzburg.de"
   ]
  },
  {
   "cell_type": "markdown",
   "metadata": {
    "slideshow": {
     "slide_type": "subslide"
    }
   },
   "source": [
    "### Google Cloud machine learning engine"
   ]
  },
  {
   "cell_type": "markdown",
   "metadata": {
    "slideshow": {
     "slide_type": "-"
    }
   },
   "source": [
    "\n",
    " - 300 USD free\n",
    " - Benutzerdefinierte Containerunterstützung\n",
    " - Verteiltes Training\n",
    " - Automatische Ressourcenbereitstellung\n",
    " - Portable Modelle"
   ]
  },
  {
   "cell_type": "markdown",
   "metadata": {
    "slideshow": {
     "slide_type": "subslide"
    }
   },
   "source": [
    "Vorgehensweise (beispielhaft):\n",
    "\n",
    "1. Account erstellen https://cloud.google.com/\n",
    "2. Projekt erstellen\n",
    "3. Bucket aufsetzen\n",
    "4. ML Engine API aktivieren\n",
    "5. gcloud sdk einrichten\n",
    "6. Modell auf Konsole umbauen\n",
    "7. Job über Konsole starten "
   ]
  },
  {
   "cell_type": "markdown",
   "metadata": {
    "slideshow": {
     "slide_type": "subslide"
    }
   },
   "source": [
    "### Other Cloud Environments"
   ]
  },
  {
   "cell_type": "markdown",
   "metadata": {
    "slideshow": {
     "slide_type": "-"
    }
   },
   "source": [
    "- __Amazon SageMaker__\n",
    "    - Amazon ML Research Grants\n",
    "    - keine 300 USD"
   ]
  },
  {
   "cell_type": "markdown",
   "metadata": {
    "slideshow": {
     "slide_type": "-"
    }
   },
   "source": [
    "- __Azure Machine Learning Studio__\n",
    "    - R or Python\n",
    "    - keine 300 USD\n",
    "    - free account "
   ]
  }
 ],
 "metadata": {
  "kernelspec": {
   "display_name": "R",
   "language": "R",
   "name": "ir"
  },
  "language_info": {
   "codemirror_mode": "r",
   "file_extension": ".r",
   "mimetype": "text/x-r-source",
   "name": "R",
   "pygments_lexer": "r",
   "version": "3.6.0"
  },
  "rise": {
   "enable_chalkboard": false,
   "overlay": "<div class='logo'><img src='images/uniwue4c.png'></div>",
   "scroll": true
  },
  "toc": {
   "base_numbering": 1,
   "nav_menu": {},
   "number_sections": true,
   "sideBar": true,
   "skip_h1_title": true,
   "title_cell": "Agenda",
   "title_sidebar": "Contents",
   "toc_cell": true,
   "toc_position": {},
   "toc_section_display": true,
   "toc_window_display": false
  }
 },
 "nbformat": 4,
 "nbformat_minor": 2
}
